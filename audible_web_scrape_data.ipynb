{
 "cells": [
  {
   "cell_type": "code",
   "execution_count": 33,
   "id": "bec5e6c5-6774-4193-9fce-1d161e05f5c1",
   "metadata": {},
   "outputs": [],
   "source": [
    "import requests as rq\n",
    "from bs4 import BeautifulSoup as bs\n",
    "import pandas as pd"
   ]
  },
  {
   "cell_type": "code",
   "execution_count": 34,
   "id": "83ba824d-c2db-4c89-adca-d211dc6b7e92",
   "metadata": {},
   "outputs": [],
   "source": [
    "def get_pageno(pageno):\n",
    "    pageno= str(pageno)\n",
    "    # Construct the URL\n",
    "    books_pageno_url = 'https://www.audible.in/search?node=21881795031&pageSize=50&sort=&page=' + pageno\n",
    "    \n",
    "    # Get the HTML page content using requests\n",
    "    response = rq.get(books_pageno_url)\n",
    "    \n",
    "    # Ensure that the reponse is valid\n",
    "    if response.status_code != 200:\n",
    "        print('Status code:', response.status_code)\n",
    "        raise Exception('Failed to fetch web page ' + books_pageno_url)\n",
    "    \n",
    "    # Construct a beautiful soup document\n",
    "    doc = bs(response.text)\n",
    "    \n",
    "    return doc"
   ]
  },
  {
   "cell_type": "code",
   "execution_count": 35,
   "id": "dbd1a48e-f3cb-4d2d-80ab-887dbec7fc43",
   "metadata": {},
   "outputs": [],
   "source": [
    "pageno_1= get_pageno(1)"
   ]
  },
  {
   "cell_type": "code",
   "execution_count": 36,
   "id": "ba4fa38c-ddd3-48d6-b3dc-c8ea88536ffe",
   "metadata": {},
   "outputs": [],
   "source": [
    "book_contents= pageno_1.find_all('li', class_='bc-list-item productListItem')"
   ]
  },
  {
   "cell_type": "markdown",
   "id": "1be59159-d7f4-448f-936d-e10635885fe4",
   "metadata": {
    "tags": []
   },
   "source": [
    "#### Extracting Name of Books"
   ]
  },
  {
   "cell_type": "code",
   "execution_count": 37,
   "id": "703e7372-d561-4d61-9bed-4faf17bded4c",
   "metadata": {},
   "outputs": [],
   "source": [
    "def get_book_names(book_contents):\n",
    "    book_names= []\n",
    "    for tag in book_contents:\n",
    "            a_tag_name= tag.h3.find_all('a', recursive=False)\n",
    "            book_name= a_tag_name[0].text.strip()\n",
    "            book_names.append(book_name)\n",
    "    return book_names"
   ]
  },
  {
   "cell_type": "markdown",
   "id": "ea737cf0-63f7-4a2d-a2b7-b5d8ed975b45",
   "metadata": {},
   "source": [
    "#### Extracting Audio Book Length"
   ]
  },
  {
   "cell_type": "code",
   "execution_count": 38,
   "id": "e49d1e80-973c-43ac-9d9f-3bf62730f910",
   "metadata": {},
   "outputs": [],
   "source": [
    "def get_book_length(book_contents):\n",
    "    book_length=[]\n",
    "    for tag in book_contents:\n",
    "        try:\n",
    "            len_tag= tag.find('li', class_='bc-list-item runtimeLabel')\n",
    "            length_tag = len_tag.find('span')\n",
    "            length = length_tag.text.strip()\n",
    "            book_length.append(length)\n",
    "        except AttributeError:\n",
    "            book_length.append(None)\n",
    "    return book_length"
   ]
  },
  {
   "cell_type": "markdown",
   "id": "e0aaf52e-2a80-450b-bca7-c12e81df7fdc",
   "metadata": {},
   "source": [
    "#### Extracting Name of Author"
   ]
  },
  {
   "cell_type": "code",
   "execution_count": 39,
   "id": "e547ea5a-6072-4e24-9e52-31a4aa820089",
   "metadata": {},
   "outputs": [],
   "source": [
    "def get_written_by(book_contents):\n",
    "    written_by=[]\n",
    "    for tag in book_contents:\n",
    "        author_tag= tag.find('li', class_='bc-list-item authorLabel')\n",
    "        try:\n",
    "            auth_tag = author_tag.find('a')\n",
    "            author = auth_tag.text.strip()\n",
    "            written_by.append(author)\n",
    "        except AttributeError:\n",
    "            written_by.append(None)\n",
    "    return written_by"
   ]
  },
  {
   "cell_type": "markdown",
   "id": "fa867357-73ff-4934-a9d8-60d6190a0916",
   "metadata": {},
   "source": [
    "#### Extracting Release Date"
   ]
  },
  {
   "cell_type": "code",
   "execution_count": 40,
   "id": "8ff15682-e12e-485a-82fe-84137ebfe67b",
   "metadata": {},
   "outputs": [],
   "source": [
    "def get_release_date(book_contents):\n",
    "    release_date=[]\n",
    "    for tag in book_contents:\n",
    "        released_tag= tag.find('li', class_='bc-list-item releaseDateLabel')\n",
    "        try:\n",
    "            release_tag = released_tag.find('span').text.strip()\n",
    "            release_date.append(release_tag)\n",
    "        except AttributeError:\n",
    "            release_date.append(None)\n",
    "    return release_date"
   ]
  },
  {
   "cell_type": "markdown",
   "id": "6029a6f6-0ba7-452c-87a6-e65282fa87a2",
   "metadata": {},
   "source": [
    "#### Extracting Language of Books"
   ]
  },
  {
   "cell_type": "code",
   "execution_count": 41,
   "id": "ca026d72-04e3-4298-be50-0b0b80abdea6",
   "metadata": {},
   "outputs": [],
   "source": [
    "def get_language(book_contents):\n",
    "    language=[]\n",
    "    for tag in book_contents:\n",
    "        lang_tag= tag.find('li', class_='bc-list-item languageLabel')\n",
    "        try:\n",
    "            language_tag = lang_tag.find('span').text.split()\n",
    "            language.append(language_tag)\n",
    "        except AttributeError:\n",
    "            language.append(None)\n",
    "    return language"
   ]
  },
  {
   "cell_type": "markdown",
   "id": "743385af-f92e-42d2-833c-2ad3dbd84c2b",
   "metadata": {},
   "source": [
    "#### Extracting Score (Rating) of the Book"
   ]
  },
  {
   "cell_type": "code",
   "execution_count": 42,
   "id": "85d4cd00-9fc1-4c4d-bea7-048088fdf7a9",
   "metadata": {},
   "outputs": [],
   "source": [
    "def get_rating(book_contents):\n",
    "    rating=[]\n",
    "    for tag in book_contents:\n",
    "        star_tag= tag.find('li', class_='bc-list-item ratingsLabel')\n",
    "        try:\n",
    "            rating_tag = star_tag.find('span', class_='bc-text bc-pub-offscreen').text.strip()\n",
    "            rating.append(rating_tag)\n",
    "        except AttributeError:\n",
    "            rating.append(None)\n",
    "    return rating"
   ]
  },
  {
   "cell_type": "markdown",
   "id": "11cab811-4c4e-4187-b7c7-6c5cd0431333",
   "metadata": {},
   "source": [
    "#### Extracting Number of Rating/Reviews"
   ]
  },
  {
   "cell_type": "code",
   "execution_count": 43,
   "id": "2d644115-50cc-4dc2-b7c2-b83b773817e1",
   "metadata": {},
   "outputs": [],
   "source": [
    "def get_no_of_ratings(book_contents):\n",
    "    no_of_ratings=[]\n",
    "    for tag in book_contents:\n",
    "        star_tag= tag.find('li', class_='bc-list-item ratingsLabel')\n",
    "        try:\n",
    "            rating_tag = star_tag.find('span', class_='bc-text bc-size-small bc-color-secondary').text.strip()\n",
    "            no_of_ratings.append(rating_tag)\n",
    "        except AttributeError:\n",
    "            no_of_ratings.append(None)\n",
    "    return no_of_ratings"
   ]
  },
  {
   "cell_type": "markdown",
   "id": "c16d5530-b9c1-4d46-badb-fdeed1a2de77",
   "metadata": {},
   "source": [
    "#### Extracting Cost of Audio Books"
   ]
  },
  {
   "cell_type": "code",
   "execution_count": 44,
   "id": "e1218372-ecc6-4a21-b1f5-44a60009e6fb",
   "metadata": {},
   "outputs": [],
   "source": [
    "def get_regular_price(book_contents):\n",
    "    regular_price=[]\n",
    "    for tag in book_contents:\n",
    "        buy_tag= tag.find('p', class_='bc-text buybox-regular-price bc-spacing-none bc-spacing-top-none')\n",
    "        try:\n",
    "            price_tag = buy_tag.find_all('span', class_='bc-text bc-size-base bc-color-base')\n",
    "            price= price_tag[1].text.strip()\n",
    "            regular_price.append(price)\n",
    "        except AttributeError:\n",
    "            regular_price.append(None)\n",
    "    return regular_price"
   ]
  },
  {
   "cell_type": "markdown",
   "id": "bee8c7dd-47a6-46e3-9bcd-abb03119a4ed",
   "metadata": {},
   "source": [
    "#### Extracting Narrator of Audio Books"
   ]
  },
  {
   "cell_type": "code",
   "execution_count": 45,
   "id": "f84017ff-f297-4838-a6cf-3319d6ee3538",
   "metadata": {},
   "outputs": [],
   "source": [
    "def get_narrated_by(book_contents):\n",
    "    narrated_by=[]\n",
    "    for tag in book_contents:\n",
    "        narrator_tag= tag.find('li', class_='bc-list-item narratorLabel')\n",
    "        try:\n",
    "            narrate_tag = narrator_tag.find('a')\n",
    "            narrator = narrate_tag.text.strip()\n",
    "            narrated_by.append(narrator)\n",
    "        except AttributeError:\n",
    "            narrated_by.append(None)\n",
    "    return narrated_by"
   ]
  },
  {
   "cell_type": "markdown",
   "id": "fd85d911-2648-478a-9b9b-6a957f975957",
   "metadata": {},
   "source": [
    "#### Combining all columns into a Dataframe"
   ]
  },
  {
   "cell_type": "code",
   "execution_count": 46,
   "id": "3cb5bd9b-4e2c-4c52-84be-3a0414b55243",
   "metadata": {},
   "outputs": [],
   "source": [
    "def parse_all_pages(end_page):\n",
    "    all_page_contents = {\n",
    "            'Book_Name':[],\n",
    "            'Author':[],\n",
    "            'Release_Date':[],\n",
    "            'Narrator':[],\n",
    "            'Rating':[],\n",
    "            'No_of_Ratings':[],\n",
    "            'Regular_Price':[],\n",
    "            'Language':[],\n",
    "            'Book_Audio_Length':[],\n",
    "            'Release_Date':[],\n",
    "            'Narrator':[]\n",
    "            }    \n",
    "    for page in range (0,end_page):\n",
    "        pageno_x = get_pageno(page)\n",
    "        book_contents = pageno_x.find_all('li', class_='bc-list-item productListItem')\n",
    "        all_page_contents['Book_Name'] += get_book_names(book_contents)\n",
    "        all_page_contents['Author'] += get_written_by(book_contents)\n",
    "        all_page_contents['Release_Date'] += get_release_date(book_contents)\n",
    "        all_page_contents['Narrator'] += get_narrated_by(book_contents)\n",
    "        all_page_contents['Rating'] += get_rating(book_contents)\n",
    "        all_page_contents['No_of_Ratings'] += get_no_of_ratings(book_contents)\n",
    "        all_page_contents['Regular_Price'] += get_regular_price(book_contents)\n",
    "        all_page_contents['Language'] += get_language(book_contents)\n",
    "        all_page_contents['Book_Audio_Length'] += get_book_length(book_contents)\n",
    "        page = page + 1\n",
    "    return all_page_contents"
   ]
  },
  {
   "cell_type": "code",
   "execution_count": 47,
   "id": "653301c3-9a2f-4c44-8df6-d682d21e92d4",
   "metadata": {},
   "outputs": [
    {
     "data": {
      "text/html": [
       "<div>\n",
       "<style scoped>\n",
       "    .dataframe tbody tr th:only-of-type {\n",
       "        vertical-align: middle;\n",
       "    }\n",
       "\n",
       "    .dataframe tbody tr th {\n",
       "        vertical-align: top;\n",
       "    }\n",
       "\n",
       "    .dataframe thead th {\n",
       "        text-align: right;\n",
       "    }\n",
       "</style>\n",
       "<table border=\"1\" class=\"dataframe\">\n",
       "  <thead>\n",
       "    <tr style=\"text-align: right;\">\n",
       "      <th></th>\n",
       "      <th>Book_Name</th>\n",
       "      <th>Author</th>\n",
       "      <th>Release_Date</th>\n",
       "      <th>Narrator</th>\n",
       "      <th>Rating</th>\n",
       "      <th>No_of_Ratings</th>\n",
       "      <th>Regular_Price</th>\n",
       "      <th>Language</th>\n",
       "      <th>Book_Audio_Length</th>\n",
       "    </tr>\n",
       "  </thead>\n",
       "  <tbody>\n",
       "    <tr>\n",
       "      <th>0</th>\n",
       "      <td>The Immortals of Meluha</td>\n",
       "      <td>Amish Tripathi</td>\n",
       "      <td>Release Date:\\n                               ...</td>\n",
       "      <td>Manish Dongardive</td>\n",
       "      <td>5 out of 5 stars</td>\n",
       "      <td>13 ratings</td>\n",
       "      <td>₹836.00</td>\n",
       "      <td>[Language:, English]</td>\n",
       "      <td>Length: 11 hrs and 39 mins</td>\n",
       "    </tr>\n",
       "    <tr>\n",
       "      <th>1</th>\n",
       "      <td>The Seven Moons of Maali Almeida</td>\n",
       "      <td>Shehan Karunatilaka</td>\n",
       "      <td>Release Date:\\n                               ...</td>\n",
       "      <td>Shivantha Wijesinha</td>\n",
       "      <td>4.5 out of 5 stars</td>\n",
       "      <td>2 ratings</td>\n",
       "      <td>₹664.00</td>\n",
       "      <td>[Language:, English]</td>\n",
       "      <td>Length: 15 hrs and 8 mins</td>\n",
       "    </tr>\n",
       "    <tr>\n",
       "      <th>2</th>\n",
       "      <td>Scion of Ikshvaku</td>\n",
       "      <td>Amish</td>\n",
       "      <td>Release Date:\\n                               ...</td>\n",
       "      <td>Sagar Arya</td>\n",
       "      <td>4.5 out of 5 stars</td>\n",
       "      <td>1,423 ratings</td>\n",
       "      <td>₹234.00</td>\n",
       "      <td>[Language:, English]</td>\n",
       "      <td>Length: 11 hrs and 35 mins</td>\n",
       "    </tr>\n",
       "    <tr>\n",
       "      <th>3</th>\n",
       "      <td>Novelist as a Vocation</td>\n",
       "      <td>Haruki Murakami</td>\n",
       "      <td>Release Date:\\n                               ...</td>\n",
       "      <td>Kotaro Watanabe</td>\n",
       "      <td>None</td>\n",
       "      <td>Not rated yet</td>\n",
       "      <td>₹519.00</td>\n",
       "      <td>[Language:, English]</td>\n",
       "      <td>Length: 7 hrs and 35 mins</td>\n",
       "    </tr>\n",
       "    <tr>\n",
       "      <th>4</th>\n",
       "      <td>Meluha Ke Mritunjay [The Immortals of Meluha]</td>\n",
       "      <td>Amish Tripathi</td>\n",
       "      <td>Release Date:\\n                               ...</td>\n",
       "      <td>Swetanshu Bora</td>\n",
       "      <td>5 out of 5 stars</td>\n",
       "      <td>1 rating</td>\n",
       "      <td>₹836.00</td>\n",
       "      <td>[Language:, Hindi]</td>\n",
       "      <td>Length: 14 hrs and 45 mins</td>\n",
       "    </tr>\n",
       "    <tr>\n",
       "      <th>...</th>\n",
       "      <td>...</td>\n",
       "      <td>...</td>\n",
       "      <td>...</td>\n",
       "      <td>...</td>\n",
       "      <td>...</td>\n",
       "      <td>...</td>\n",
       "      <td>...</td>\n",
       "      <td>...</td>\n",
       "      <td>...</td>\n",
       "    </tr>\n",
       "    <tr>\n",
       "      <th>1194</th>\n",
       "      <td>Hitched, Vol. 2</td>\n",
       "      <td>Kendall Ryan</td>\n",
       "      <td>Release Date:\\n                               ...</td>\n",
       "      <td>Alexander Cendese</td>\n",
       "      <td>3.5 out of 5 stars</td>\n",
       "      <td>12 ratings</td>\n",
       "      <td>₹585.00</td>\n",
       "      <td>[Language:, English]</td>\n",
       "      <td>Length: 3 hrs and 28 mins</td>\n",
       "    </tr>\n",
       "    <tr>\n",
       "      <th>1195</th>\n",
       "      <td>Madame Bovary</td>\n",
       "      <td>Gustave Flaubert</td>\n",
       "      <td>Release Date:\\n                               ...</td>\n",
       "      <td>Ronald Pickup</td>\n",
       "      <td>4.5 out of 5 stars</td>\n",
       "      <td>3 ratings</td>\n",
       "      <td>₹873.00</td>\n",
       "      <td>[Language:, English]</td>\n",
       "      <td>Length: 15 hrs and 22 mins</td>\n",
       "    </tr>\n",
       "    <tr>\n",
       "      <th>1196</th>\n",
       "      <td>EMPEROR: The Field of Swords, Book 3 (Unabridged)</td>\n",
       "      <td>Conn Iggulden</td>\n",
       "      <td>Release Date:\\n                               ...</td>\n",
       "      <td>Paul Blake</td>\n",
       "      <td>5 out of 5 stars</td>\n",
       "      <td>2 ratings</td>\n",
       "      <td>₹797.00</td>\n",
       "      <td>[Language:, English]</td>\n",
       "      <td>Length: 17 hrs and 35 mins</td>\n",
       "    </tr>\n",
       "    <tr>\n",
       "      <th>1197</th>\n",
       "      <td>Persepolis Rising</td>\n",
       "      <td>James S. A. Corey</td>\n",
       "      <td>Release Date:\\n                               ...</td>\n",
       "      <td>Jefferson Mays</td>\n",
       "      <td>5 out of 5 stars</td>\n",
       "      <td>14 ratings</td>\n",
       "      <td>₹932.00</td>\n",
       "      <td>[Language:, English]</td>\n",
       "      <td>Length: 20 hrs and 34 mins</td>\n",
       "    </tr>\n",
       "    <tr>\n",
       "      <th>1198</th>\n",
       "      <td>The Daughter of Doctor Moreau</td>\n",
       "      <td>Silvia Moreno-Garcia</td>\n",
       "      <td>Release Date:\\n                               ...</td>\n",
       "      <td>Gisela Chípe</td>\n",
       "      <td>None</td>\n",
       "      <td>Not rated yet</td>\n",
       "      <td>₹835.00</td>\n",
       "      <td>[Language:, English]</td>\n",
       "      <td>Length: 11 hrs and 39 mins</td>\n",
       "    </tr>\n",
       "  </tbody>\n",
       "</table>\n",
       "<p>1199 rows × 9 columns</p>\n",
       "</div>"
      ],
      "text/plain": [
       "                                              Book_Name                Author  \\\n",
       "0                               The Immortals of Meluha        Amish Tripathi   \n",
       "1                      The Seven Moons of Maali Almeida   Shehan Karunatilaka   \n",
       "2                                     Scion of Ikshvaku                 Amish   \n",
       "3                                Novelist as a Vocation       Haruki Murakami   \n",
       "4         Meluha Ke Mritunjay [The Immortals of Meluha]        Amish Tripathi   \n",
       "...                                                 ...                   ...   \n",
       "1194                                    Hitched, Vol. 2          Kendall Ryan   \n",
       "1195                                      Madame Bovary      Gustave Flaubert   \n",
       "1196  EMPEROR: The Field of Swords, Book 3 (Unabridged)         Conn Iggulden   \n",
       "1197                                  Persepolis Rising     James S. A. Corey   \n",
       "1198                      The Daughter of Doctor Moreau  Silvia Moreno-Garcia   \n",
       "\n",
       "                                           Release_Date             Narrator  \\\n",
       "0     Release Date:\\n                               ...    Manish Dongardive   \n",
       "1     Release Date:\\n                               ...  Shivantha Wijesinha   \n",
       "2     Release Date:\\n                               ...           Sagar Arya   \n",
       "3     Release Date:\\n                               ...      Kotaro Watanabe   \n",
       "4     Release Date:\\n                               ...       Swetanshu Bora   \n",
       "...                                                 ...                  ...   \n",
       "1194  Release Date:\\n                               ...    Alexander Cendese   \n",
       "1195  Release Date:\\n                               ...        Ronald Pickup   \n",
       "1196  Release Date:\\n                               ...           Paul Blake   \n",
       "1197  Release Date:\\n                               ...       Jefferson Mays   \n",
       "1198  Release Date:\\n                               ...         Gisela Chípe   \n",
       "\n",
       "                  Rating  No_of_Ratings Regular_Price              Language  \\\n",
       "0       5 out of 5 stars     13 ratings       ₹836.00  [Language:, English]   \n",
       "1     4.5 out of 5 stars      2 ratings       ₹664.00  [Language:, English]   \n",
       "2     4.5 out of 5 stars  1,423 ratings       ₹234.00  [Language:, English]   \n",
       "3                   None  Not rated yet       ₹519.00  [Language:, English]   \n",
       "4       5 out of 5 stars       1 rating       ₹836.00    [Language:, Hindi]   \n",
       "...                  ...            ...           ...                   ...   \n",
       "1194  3.5 out of 5 stars     12 ratings       ₹585.00  [Language:, English]   \n",
       "1195  4.5 out of 5 stars      3 ratings       ₹873.00  [Language:, English]   \n",
       "1196    5 out of 5 stars      2 ratings       ₹797.00  [Language:, English]   \n",
       "1197    5 out of 5 stars     14 ratings       ₹932.00  [Language:, English]   \n",
       "1198                None  Not rated yet       ₹835.00  [Language:, English]   \n",
       "\n",
       "               Book_Audio_Length  \n",
       "0     Length: 11 hrs and 39 mins  \n",
       "1      Length: 15 hrs and 8 mins  \n",
       "2     Length: 11 hrs and 35 mins  \n",
       "3      Length: 7 hrs and 35 mins  \n",
       "4     Length: 14 hrs and 45 mins  \n",
       "...                          ...  \n",
       "1194   Length: 3 hrs and 28 mins  \n",
       "1195  Length: 15 hrs and 22 mins  \n",
       "1196  Length: 17 hrs and 35 mins  \n",
       "1197  Length: 20 hrs and 34 mins  \n",
       "1198  Length: 11 hrs and 39 mins  \n",
       "\n",
       "[1199 rows x 9 columns]"
      ]
     },
     "execution_count": 47,
     "metadata": {},
     "output_type": "execute_result"
    }
   ],
   "source": [
    "all_pages_scraped= pd.DataFrame(parse_all_pages(24))\n",
    "all_pages_scraped"
   ]
  },
  {
   "cell_type": "markdown",
   "id": "45c086aa-f03b-4905-a835-8f77f77f4384",
   "metadata": {},
   "source": [
    "#### Exporting Scraped Data into a csv file"
   ]
  },
  {
   "cell_type": "code",
   "execution_count": 48,
   "id": "7516d1a4-4aad-46e3-98c1-172146234797",
   "metadata": {},
   "outputs": [],
   "source": [
    "all_pages_scraped.to_csv('Literature_&_Fiction_Books_2022.csv',index=None)"
   ]
  }
 ],
 "metadata": {
  "kernelspec": {
   "display_name": "Python 3 (ipykernel)",
   "language": "python",
   "name": "python3"
  },
  "language_info": {
   "codemirror_mode": {
    "name": "ipython",
    "version": 3
   },
   "file_extension": ".py",
   "mimetype": "text/x-python",
   "name": "python",
   "nbconvert_exporter": "python",
   "pygments_lexer": "ipython3",
   "version": "3.9.7"
  }
 },
 "nbformat": 4,
 "nbformat_minor": 5
}
